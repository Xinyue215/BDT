{
 "cells": [
  {
   "cell_type": "code",
   "execution_count": 1,
   "metadata": {},
   "outputs": [],
   "source": [
    "import numpy as np\n",
    "import matplotlib.pyplot as plt\n",
    "from icecube import astro, dataio,paraboloid\n",
    "import histlite as hl\n",
    "import csky as cy\n",
    "from csky import hyp\n",
    "import pandas as pd\n",
    "from importlib import reload\n",
    "import tables\n",
    "reload(cy.pdf)\n",
    "%matplotlib inline"
   ]
  },
  {
   "cell_type": "code",
   "execution_count": 2,
   "metadata": {},
   "outputs": [
    {
     "name": "stdout",
     "output_type": "stream",
     "text": [
      "-0.6284542535027126\n",
      "-0.3245146369013894\n"
     ]
    },
    {
     "name": "stderr",
     "output_type": "stream",
     "text": [
      "/home/xk35/csky/csky/plotting.py:92: MatplotlibDeprecationWarning: Support for setting the 'text.latex.preamble' or 'pgf.preamble' rcParam to a list of strings is deprecated since 3.3 and will be removed two minor releases later; set it to a single string instead.\n",
      "  r'\\SetSymbolFont{operators}   {sans}{OT1}{cmss} {m}{n}'\n"
     ]
    }
   ],
   "source": [
    "cy.plotting.mrichman_mpl()\n",
    "timer = cy.timing.Timer()\n",
    "time = timer.time\n",
    "\n",
    "GC_ra , GC_dec = astro.gal_to_equa(0., 0.)\n",
    "sindec_uplim = np.sin(GC_dec + np.radians(10))\n",
    "sindec_lolim = np.sin(GC_dec - np.radians(10))\n",
    "print(sindec_lolim)\n",
    "print(sindec_uplim)"
   ]
  },
  {
   "cell_type": "code",
   "execution_count": 3,
   "metadata": {},
   "outputs": [],
   "source": [
    "MC = tables.open_file('/data/user/xk35/BDT_corrected/BDT_I_output/MC_v0/MC_cat_4000.hdf5')\n",
    "#mask_MC = MC.root.SplineMPETruncatedEnergy_SPICEMie_AllBINS_MuEres.cols.exists[:]==1\n",
    "Data = tables.open_file('/data/user/xk35/BDT_corrected/BDT_I_output/Data_v0/Data_cat_24days.hdf5')\n",
    "#mask_Data = Data.root.SplineMPETruncatedEnergy_SPICEMie_AllBINS_MuEres.cols.exists[:]==1"
   ]
  },
  {
   "cell_type": "code",
   "execution_count": 6,
   "metadata": {},
   "outputs": [],
   "source": [
    "dtype = [('run', int), ('event', int), ('subevent', int),\n",
    "              ('ra', float), ('dec', float),('true_ra', float), ('true_dec', float),\n",
    "                ('azi', float), ('zen', float), ('time', float),\n",
    "               ('logE', float), ('angErr', float), ('oneweight', float), ('true_energy', float)]\n",
    "\n",
    "\n",
    "mc = np.zeros(len(MC.root.I3EventHeader.cols.Run[:]), dtype=dtype)\n",
    "\n",
    "\n",
    "mc['run'] = MC.root.I3EventHeader.cols.Run[:]\n",
    "mc['event'] = MC.root.I3EventHeader.cols.Event[:]\n",
    "mc['subevent'] = MC.root.I3EventHeader.cols.SubEvent[:]\n",
    "\n",
    "mc['time'] = MC.root.I3EventHeader.cols.time_start_mjd[:]\n",
    "\n",
    "MC_trueAzi = MC.root.I3MCWeightDict.cols.PrimaryNeutrinoAzimuth[:]\n",
    "MC_trueZen = MC.root.I3MCWeightDict.cols.PrimaryNeutrinoZenith[:]\n",
    "mc['true_ra'], mc['true_dec'] = astro.dir_to_equa(MC_trueZen, MC_trueAzi, mc['time'])\n",
    "#mc['true_ra'] = MC_trueAzi\n",
    "#mc['true_dec'] = MC_trueZen-np.pi/2\n",
    "\n",
    "\n",
    "mc['azi'] = MC.root.SplineMPE.cols.azimuth[:]\n",
    "mc['zen'] = MC.root.SplineMPE.cols.zenith[:]\n",
    "mc['ra'], mc['dec'] = astro.dir_to_equa(mc['zen'], mc['azi'], mc['time'])\n",
    "#mc['ra'] = mc['azi']\n",
    "#mc['dec'] = mc['zen']-np.pi/2\n",
    "\n",
    "#logE -> log10E\n",
    "mc['logE'] = np.log10(MC.root.SplineMPEMuEXDifferential.cols.energy[:])\n",
    "\n",
    "MC_err1 = MC.root.MPEFitParaboloidFitParams.cols.err1[:]\n",
    "MC_err2 = MC.root.MPEFitParaboloidFitParams.cols.err2[:]\n",
    "mc['angErr'] = np.sqrt((MC_err1**2+MC_err2**2)/2)\n",
    "mc['oneweight'] = MC.root.I3MCWeightDict.cols.OneWeight[:]\n",
    "mc['true_energy'] = MC.root.I3MCWeightDict.cols.PrimaryNeutrinoEnergy[:]\n",
    "\n",
    "\n",
    "\n",
    "\n",
    "data = np.zeros(len(Data.root.I3EventHeader.cols.Run[:]), dtype=dtype)\n",
    "data['run'] =Data.root.I3EventHeader.cols.Run[:]\n",
    "data['event'] = Data.root.I3EventHeader.cols.Event[:]\n",
    "data['subevent'] = Data.root.I3EventHeader.cols.SubEvent[:]\n",
    "data['azi'] = Data.root.SplineMPE.cols.azimuth[:]\n",
    "data['zen'] = Data.root.SplineMPE.cols.zenith[:]\n",
    "data['time'] = Data.root.I3EventHeader.cols.time_start_mjd[:]\n",
    "data['logE'] = np.log10(Data.root.SplineMPEMuEXDifferential.cols.energy[:])\n",
    "Data_err1 = Data.root.MPEFitParaboloidFitParams.cols.err1[:]\n",
    "Data_err2 = Data.root.MPEFitParaboloidFitParams.cols.err2[:]\n",
    "data['angErr'] = np.sqrt((Data_err1**2+Data_err2**2)/2)\n",
    "\n",
    "#data['ra'], data['dec'] = astro.dir_to_equa(data['zen'], data['azi'], data['time'])\n",
    "data['ra'] = data['azi']\n",
    "data['dec'] = data['zen']-np.pi/2\n",
    "\n",
    "#data = data[mask_Data]\n",
    "#mc = mc[mask_MC]"
   ]
  },
  {
   "cell_type": "code",
   "execution_count": 7,
   "metadata": {},
   "outputs": [],
   "source": [
    "nfiles_sim = 4000\n",
    "processed_events = MC.root.I3MCWeightDict.cols.NEvents[:][0]\n",
    "mc['oneweight'] = mc['oneweight']/(nfiles_sim*processed_events)"
   ]
  },
  {
   "cell_type": "code",
   "execution_count": 8,
   "metadata": {},
   "outputs": [
    {
     "name": "stdout",
     "output_type": "stream",
     "text": [
      "23.545279694066267\n"
     ]
    }
   ],
   "source": [
    "LT_days = 0\n",
    "for run in np.unique(data['run']):\n",
    "    mask = (data['run'] == run)\n",
    "    min_time = np.min(data[mask]['time'])\n",
    "    max_time = np.max(data[mask]['time'])\n",
    "    run_time = max_time - min_time\n",
    "    #print(run_time)\n",
    "    LT_days += run_time\n",
    "LT = LT_days*86400\n",
    "print(LT_days)"
   ]
  },
  {
   "cell_type": "code",
   "execution_count": 9,
   "metadata": {},
   "outputs": [
    {
     "name": "stdout",
     "output_type": "stream",
     "text": [
      "Setting up Analysis for:\n",
      "custom\n",
      "Setting up custom...\n",
      "Energy PDF Ratio Model...\n",
      "  * gamma = 4.0000 ...\n",
      "Signal Acceptance Model...\n",
      "  * gamma = 4.0000 ...\n",
      "Done.\n",
      "\n",
      "0:00:00.554977 elapsed.\n"
     ]
    }
   ],
   "source": [
    "data_spec = cy.selections.CustomDataSpecs.CustomDataSpec(data, mc, LT, np.linspace(sindec_lolim, sindec_uplim, 2),\n",
    "                                                        np.linspace(2, 10, 5))\n",
    "#data_spec = cy.selections.PSDataSpecs.ps_10yr\n",
    "repo = cy.selections.Repository()\n",
    "with time('ana setup (from cache-to-disk)'):\n",
    "    ana = cy.get_analysis(cy.selections.repo,data_spec)"
   ]
  },
  {
   "cell_type": "code",
   "execution_count": 10,
   "metadata": {},
   "outputs": [],
   "source": [
    "cy.CONF['ana'] = ana\n",
    "cy.CONF['mp_cpus'] = 3"
   ]
  },
  {
   "cell_type": "markdown",
   "metadata": {},
   "source": [
    "# Point Source Analysis"
   ]
  },
  {
   "cell_type": "code",
   "execution_count": 11,
   "metadata": {},
   "outputs": [],
   "source": [
    "source_ra, source_dec = astro.gal_to_equa(0.,0.)\n",
    "gamma = 2.7\n",
    "src = cy.sources(source_ra, source_dec)\n",
    "conf = {\n",
    "    'flux':cy.hyp.PowerLawFlux(gamma), 'mp_cpus':3 #'fitter_args':dict(gamma=gamma)\n",
    "}\n",
    "\n",
    "tr = cy.get_trial_runner(src=src, conf = conf,ana = ana)"
   ]
  },
  {
   "cell_type": "code",
   "execution_count": null,
   "metadata": {},
   "outputs": [],
   "source": []
  },
  {
   "cell_type": "markdown",
   "metadata": {},
   "source": [
    "# Trial"
   ]
  },
  {
   "cell_type": "code",
   "execution_count": 12,
   "metadata": {},
   "outputs": [
    {
     "data": {
      "text/plain": [
       "([[Events(53194 items | columns: dec, idx, inj, log10energy, ra, sigma, sindec),\n",
       "   Events(1000 items | columns: dec, idx, inj, log10energy, ra, sigma, sindec)]],\n",
       " [135015])"
      ]
     },
     "execution_count": 12,
     "metadata": {},
     "output_type": "execute_result"
    }
   ],
   "source": [
    "trial = tr.get_one_trial(n_sig=1000, poisson=False, seed=1)\n",
    "tuple(trial)"
   ]
  },
  {
   "cell_type": "code",
   "execution_count": 13,
   "metadata": {},
   "outputs": [
    {
     "data": {
      "image/png": "[encoded data removed]",
      "text/plain": [
       "<Figure size 720x480 with 1 Axes>"
      ]
     },
     "metadata": {},
     "output_type": "display_data"
    }
   ],
   "source": [
    "c = trial[-2][-1]\n",
    "s = c[1]\n",
    "fig, ax = plt.subplots()\n",
    "plt.scatter(np.degrees(s.ra),np.degrees(s.dec), s = 0.5)\n",
    "plt.scatter(np.degrees(source_ra), np.degrees(source_dec),marker = 'x')\n",
    "ax.set_aspect('equal')"
   ]
  },
  {
   "cell_type": "code",
   "execution_count": 14,
   "metadata": {},
   "outputs": [
    {
     "name": "stdout",
     "output_type": "stream",
     "text": [
      "266.404996225917 -28.936172013030074\n"
     ]
    },
    {
     "data": {
      "text/plain": [
       "<matplotlib.collections.PathCollection at 0x7f1604f9e0d0>"
      ]
     },
     "execution_count": 14,
     "metadata": {},
     "output_type": "execute_result"
    },
    {
     "data": {
      "image/png": "[encoded data removed]",
      "text/plain": [
       "<Figure size 720x480 with 1 Axes>"
      ]
     },
     "metadata": {},
     "output_type": "display_data"
    }
   ],
   "source": [
    "all_sig_ev = cy.utils.Arrays.concatenate([evs[1] for evs in trial.evss])\n",
    "hl.plot2d(hl.kde((all_sig_ev.ra_deg, all_sig_ev.dec_deg))) # range=((0, 360), (-100, 100))))\n",
    "#plt.gca().set_aspect('equal')\n",
    "print(np.degrees(GC_ra), np.degrees(GC_dec))\n",
    "plt.scatter(src.ra_deg, src.dec_deg, c='r', marker='x')"
   ]
  },
  {
   "cell_type": "code",
   "execution_count": null,
   "metadata": {},
   "outputs": [],
   "source": []
  },
  {
   "cell_type": "markdown",
   "metadata": {},
   "source": [
    "# Background Estimation"
   ]
  },
  {
   "cell_type": "code",
   "execution_count": 15,
   "metadata": {},
   "outputs": [
    {
     "name": "stdout",
     "output_type": "stream",
     "text": [
      "Performing 1000 background trials using 3 cores:\n",
      "       1000/1000 trials complete.   \n",
      "\n",
      "0:00:15.935853 elapsed.\n"
     ]
    }
   ],
   "source": [
    "with time('ps bg trials'):\n",
    "    n_trials = 1000\n",
    "    bg = cy.dists.Chi2TSD(tr.get_many_fits(n_trials))\n",
    "    #bg = cy.dists.Chi2TSD(tr.get_many_fits(n_trials,15))"
   ]
  },
  {
   "cell_type": "code",
   "execution_count": 16,
   "metadata": {},
   "outputs": [
    {
     "name": "stdout",
     "output_type": "stream",
     "text": [
      "Chi2TSD(1000 trials, eta=0.437, ndof=1.080, median=0.000 (from fit 0.000))\n"
     ]
    }
   ],
   "source": [
    "print(bg)"
   ]
  },
  {
   "cell_type": "code",
   "execution_count": 17,
   "metadata": {},
   "outputs": [
    {
     "name": "stdout",
     "output_type": "stream",
     "text": [
      "Chi2TSD from 1000 trials:\n",
      "           eta = 0.437\n",
      "          ndof = 1.080\n",
      "           loc = 0.000\n",
      "         scale = 0.840\n",
      "Thresholds from trials:\n",
      "        median = 0.000\n",
      "       1 sigma = 0.78\n",
      "       2 sigma = 3.33\n",
      "       3 sigma = 7.57\n",
      "       4 sigma = 13.48\n",
      "       5 sigma = 21.06\n",
      "Thresholds from fit:\n",
      "        median = 0.000\n",
      "       1 sigma = 0.78\n",
      "       2 sigma = 3.33\n",
      "       3 sigma = 7.57\n",
      "       4 sigma = 13.48\n",
      "       5 sigma = 21.06\n"
     ]
    }
   ],
   "source": [
    "print(bg.description)"
   ]
  },
  {
   "cell_type": "code",
   "execution_count": 18,
   "metadata": {},
   "outputs": [
    {
     "name": "stderr",
     "output_type": "stream",
     "text": [
      "/home/xk35/.local/lib/python3.7/site-packages/numpy/core/_asarray.py:83: UserWarning: Warning: converting a masked element to nan.\n",
      "  return array(a, dtype, copy=False, order=order)\n"
     ]
    },
    {
     "data": {
      "image/png": "[encoded data removed]",
      "text/plain": [
       "<Figure size 720x480 with 1 Axes>"
      ]
     },
     "metadata": {},
     "output_type": "display_data"
    }
   ],
   "source": [
    "fig, ax = plt.subplots()\n",
    "\n",
    "# csky uses histlite all over the place for PDF management\n",
    "# the background distribution fit integrates with histlite as well\n",
    "h = bg.get_hist(bins=50)\n",
    "hl.plot1d(ax, h, crosses=True,\n",
    "          label='{} bg trials, $\\gamma$ = {}'.format(bg.n_total, gamma))\n",
    "\n",
    "# compare with the chi2 fit:\n",
    "x = h.centers[0]\n",
    "norm = h.integrate().values\n",
    "ax.semilogy(x, norm * bg.pdf(x), lw=1, ls='--',\n",
    "            label=r'$\\chi^2[{:.2f}\\text{{dof}},\\ \\eta={:.3f}]$'.format(bg.ndof, bg.eta))\n",
    "\n",
    "# always label your plots, folks\n",
    "ax.set_xlabel(r'TS')\n",
    "ax.set_ylabel(r'number of trials')\n",
    "ax.legend()\n",
    "#plt.title('After Cut')\n",
    "plt.tight_layout()\n",
    "#plt.savefig('BDTPlots/after_cut_TS_list_gamma_{}.png'.format(gamma))"
   ]
  },
  {
   "cell_type": "markdown",
   "metadata": {},
   "source": [
    "# sensitivity snd discovery potential"
   ]
  },
  {
   "cell_type": "code",
   "execution_count": 19,
   "metadata": {},
   "outputs": [
    {
     "name": "stdout",
     "output_type": "stream",
     "text": [
      "Start time: 2022-02-09 14:29:52.282131\n",
      "Using 3 cores.\n",
      "* Starting initial scan for 90% of 50 trials with TS >= 0.000...\n",
      "  n_sig = 5.000 ... frac = 0.64000\n",
      "  n_sig = 10.000 ... frac = 0.76000\n",
      "  n_sig = 15.000 ... frac = 0.90000\n",
      "* Generating batches of 500 trials...\n",
      "n_trials | n_inj    0.00    6.00   12.00   18.00   24.00   30.00  |  n_sig(relative error)\n",
      "500      |         43.6%   74.6%   90.2%   98.4%   99.4%  100.0%  |     11.889 (+/-  5.3%) [spline]\n",
      "1000     |         43.0%   73.7%   90.1%   97.0%   99.4%   99.9%  |     11.939 (+/-  4.8%) [spline]\n",
      "End time: 2022-02-09 14:31:38.078769\n",
      "Elapsed time: 0:01:45.796638\n",
      "\n",
      "0:01:45.797835 elapsed.\n"
     ]
    }
   ],
   "source": [
    "with time('ps sensitivity'):\n",
    "    sens = tr.find_n_sig(\n",
    "        # ts, threshold\n",
    "        bg.median(),\n",
    "        # beta, fraction of trials which should exceed the threshold\n",
    "        0.9,\n",
    "        # n_inj step size for initial scan\n",
    "        n_sig_step=5,\n",
    "        # this many trials at a time\n",
    "        batch_size=500,\n",
    "        # tolerance, as estimated relative error\n",
    "        tol=.05\n",
    "    )"
   ]
  },
  {
   "cell_type": "code",
   "execution_count": 20,
   "metadata": {},
   "outputs": [
    {
     "name": "stdout",
     "output_type": "stream",
     "text": [
      "Start time: 2022-02-09 14:31:38.088913\n",
      "Using 3 cores.\n",
      "* Starting initial scan for 50% of 50 trials with TS >= 21.058...\n",
      "  n_sig = 5.000 ... frac = 0.00000\n",
      "  n_sig = 10.000 ... frac = 0.00000\n",
      "  n_sig = 15.000 ... frac = 0.00000\n",
      "  n_sig = 20.000 ... frac = 0.00000\n",
      "  n_sig = 25.000 ... frac = 0.12000\n",
      "  n_sig = 30.000 ... frac = 0.12000\n",
      "  n_sig = 35.000 ... frac = 0.22000\n",
      "  n_sig = 40.000 ... frac = 0.34000\n",
      "  n_sig = 45.000 ... frac = 0.60000\n",
      "* Generating batches of 500 trials...\n",
      "n_trials | n_inj    0.00   18.00   36.00   54.00   72.00   90.00  |  n_sig(relative error)\n",
      "500      |          0.0%    1.0%   32.2%   77.2%   96.4%  100.0%  |     42.935 (+/-  1.3%) [spline]\n",
      "End time: 2022-02-09 14:32:42.950484\n",
      "Elapsed time: 0:01:04.861571\n",
      "\n",
      "0:01:04.864218 elapsed.\n"
     ]
    }
   ],
   "source": [
    "with time('ps discovery potential'):\n",
    "    disc = tr.find_n_sig(bg.isf_nsigma(5), 0.5, n_sig_step=5, batch_size=500, tol=.05)\n"
   ]
  },
  {
   "cell_type": "code",
   "execution_count": 21,
   "metadata": {},
   "outputs": [
    {
     "name": "stdout",
     "output_type": "stream",
     "text": [
      "5.672e-10 TeV/cm2/s @ 100 TeV\n",
      "2.040e-09 TeV/cm2/s @ 100 TeV\n"
     ]
    }
   ],
   "source": [
    "fmt2 = '{:.3e} TeV/cm2/s @ 100 TeV'\n",
    "print(fmt2.format(tr.to_E2dNdE(sens['n_sig'], E0=100, unit=1e3)))\n",
    "print(fmt2.format(tr.to_E2dNdE(disc['n_sig'], E0=100, unit=1e3)))"
   ]
  },
  {
   "cell_type": "markdown",
   "metadata": {},
   "source": [
    "# Test for bias"
   ]
  },
  {
   "cell_type": "code",
   "execution_count": 22,
   "metadata": {},
   "outputs": [
    {
     "name": "stdout",
     "output_type": "stream",
     "text": [
      "\n",
      "0:00:24.816161 elapsed.\n"
     ]
    }
   ],
   "source": [
    "n_sigs = np.r_[:101:10]\n",
    "with time('ps fit bias trials'):\n",
    "    trials = [tr.get_many_fits(100, n_sig=n_sig, logging=False, seed=n_sig) for n_sig in n_sigs]"
   ]
  },
  {
   "cell_type": "code",
   "execution_count": 23,
   "metadata": {},
   "outputs": [],
   "source": [
    "for (n_sig, t) in zip(n_sigs, trials):\n",
    "    t['ntrue'] = np.repeat(n_sig, len(t))"
   ]
  },
  {
   "cell_type": "code",
   "execution_count": 24,
   "metadata": {},
   "outputs": [],
   "source": [
    "allt = cy.utils.Arrays.concatenate(trials)"
   ]
  },
  {
   "cell_type": "code",
   "execution_count": 25,
   "metadata": {},
   "outputs": [
    {
     "data": {
      "image/png": "[encoded data removed]",
      "text/plain": [
       "<Figure size 720x360 with 2 Axes>"
      ]
     },
     "metadata": {},
     "output_type": "display_data"
    }
   ],
   "source": [
    "fig, axs = plt.subplots(1, 2, figsize=(6,3))\n",
    "\n",
    "dns = np.mean(np.diff(n_sigs))\n",
    "ns_bins = np.r_[n_sigs - 0.5*dns, n_sigs[-1] + 0.5*dns]\n",
    "expect_kw = dict(color='C0', ls='--', lw=1, zorder=-10)\n",
    "expect_gamma = tr.sig_injs[0].flux[0].gamma\n",
    "\n",
    "ax = axs[0]\n",
    "h = hl.hist((allt.ntrue, allt.ns), bins=(ns_bins, 100))\n",
    "hl.plot1d(ax, h.contain_project(1),errorbands=True, drawstyle='default')\n",
    "\n",
    "lim = ns_bins[[0, -1]]\n",
    "ax.set_xlim(ax.set_ylim(lim))\n",
    "ax.plot(lim, lim, **expect_kw)\n",
    "ax.set_aspect('equal')\n",
    "\n",
    "\n",
    "ax = axs[1]\n",
    "h = hl.hist((allt.ntrue, allt.gamma), bins=(ns_bins, 100))\n",
    "hl.plot1d(ax, h.contain_project(1),errorbands=True, drawstyle='default')\n",
    "ax.axhline(expect_gamma, **expect_kw)\n",
    "ax.set_xlim(axs[0].get_xlim())\n",
    "\n",
    "for ax in axs:\n",
    "    ax.set_xlabel(r'$n_\\text{inj}$')\n",
    "    ax.grid()\n",
    "axs[0].set_ylabel(r'$n_s$')\n",
    "axs[1].set_ylabel(r'$\\gamma$')\n",
    "\n",
    "plt.tight_layout()\n",
    "#plt.savefig('BDTPlots/after_cut_bias_GC_gamma_{}.png'.format(gamma))"
   ]
  },
  {
   "cell_type": "code",
   "execution_count": null,
   "metadata": {},
   "outputs": [],
   "source": []
  }
 ],
 "metadata": {
  "kernelspec": {
   "display_name": "Python 3",
   "language": "python",
   "name": "python3"
  },
  "language_info": {
   "codemirror_mode": {
    "name": "ipython",
    "version": 3
   },
   "file_extension": ".py",
   "mimetype": "text/x-python",
   "name": "python",
   "nbconvert_exporter": "python",
   "pygments_lexer": "ipython3",
   "version": "3.7.5"
  }
 },
 "nbformat": 4,
 "nbformat_minor": 2
}
